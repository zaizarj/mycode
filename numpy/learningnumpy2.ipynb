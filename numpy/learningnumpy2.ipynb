{
 "cells": [
  {
   "cell_type": "code",
   "execution_count": null,
   "id": "28a0342c-9cb0-415a-970b-6ce0bf004741",
   "metadata": {
    "tags": []
   },
   "outputs": [],
   "source": [
    "import numpy as np\n",
    "\n",
    "A = np.array([2.4, 6.7, 7.9])\n",
    "print(\"Array A has a shape of:\", A.shape) # shape returns a tuple of rows, cols \n",
    "print(\"Array A has dimension:\", A.ndim) # ndim returns an integer representing the dimensions"
   ]
  },
  {
   "cell_type": "code",
   "execution_count": null,
   "id": "a545d3f9-440d-41f5-910c-0009c7c44964",
   "metadata": {
    "tags": []
   },
   "outputs": [],
   "source": [
    "import numpy as np\n",
    "\n",
    "A = np.array([[2.4, 6.7, 7.9]])\n",
    "print(\"Array A has a shape of:\", A.shape) # shape returns a tuple of rows, cols \n",
    "print(\"Array A has dimension:\", A.ndim) # ndim returns an integer representing the dimensions"
   ]
  },
  {
   "cell_type": "code",
   "execution_count": null,
   "id": "7f8c7453-a84e-40f4-81c1-30b2f0541ef0",
   "metadata": {
    "tags": []
   },
   "outputs": [],
   "source": [
    "A = np.array([ [2.4, 6.7, 7.9], # double brackets, so this is row 0\n",
    "             [1.1, -7.8, -0.7], # row 1\n",
    "             [4.1, 12.3, 4.8]]) # row 2\n",
    "A[1,0] # index A at row 1, col 0 (can also index using chained indexing: A[1][0]) "
   ]
  },
  {
   "cell_type": "code",
   "execution_count": null,
   "id": "eb0e1e6a-9588-4f59-a910-6c7dd9a10925",
   "metadata": {
    "tags": []
   },
   "outputs": [],
   "source": [
    "A[0,:] # grab all of row 0"
   ]
  },
  {
   "cell_type": "code",
   "execution_count": null,
   "id": "f9cf79a4-d3d0-4b44-b42e-629e14b871f7",
   "metadata": {
    "tags": []
   },
   "outputs": [],
   "source": [
    "A[:,0] # grab all of row 0"
   ]
  },
  {
   "cell_type": "code",
   "execution_count": null,
   "id": "bbe9ee2f-7ad5-4b4e-879a-f9efecbd3767",
   "metadata": {
    "tags": []
   },
   "outputs": [],
   "source": [
    "A = np.array([\n",
    "[11, 12, 13, 14, 15], # row 0\n",
    "[21, 22, 23, 24, 25], # row 1\n",
    "[31, 32, 33, 34, 35], # row 2\n",
    "[41, 42, 43, 44, 45], # row 3\n",
    "[51, 52, 53, 54, 55]]) # row 4\n",
    "\n",
    "A[:3, 2:] # first argument :3 slices rows 0-2, second argument 2: slices cols 2-end of array"
   ]
  },
  {
   "cell_type": "code",
   "execution_count": null,
   "id": "0085dfa8-ac01-4e13-b456-aef9650d309c",
   "metadata": {
    "tags": []
   },
   "outputs": [],
   "source": [
    "A[3:, :]"
   ]
  },
  {
   "cell_type": "code",
   "execution_count": null,
   "id": "1bfa27d1-4177-4982-ab1b-4bbefb4d47f2",
   "metadata": {
    "tags": []
   },
   "outputs": [],
   "source": [
    "A[:, 4:]"
   ]
  },
  {
   "cell_type": "code",
   "execution_count": null,
   "id": "edbfc325-8aeb-4166-847f-3c37585ba9d5",
   "metadata": {
    "tags": []
   },
   "outputs": [],
   "source": [
    "A[::2, ::3] # ::2 starts at row 0 through the end of the array, skipping over every other row, and ::3 starts at col 0 through the end of the array, grabbing every third entry"
   ]
  },
  {
   "cell_type": "code",
   "execution_count": null,
   "id": "ec6852d8-5469-4e56-a74c-9ac49c4914a6",
   "metadata": {
    "tags": []
   },
   "outputs": [],
   "source": [
    "X=np.arange(28)\n",
    "X"
   ]
  },
  {
   "cell_type": "code",
   "execution_count": null,
   "id": "1ec3347a-6bf3-456c-90c8-daa99ba03802",
   "metadata": {
    "tags": []
   },
   "outputs": [],
   "source": [
    "print(X.shape)\n",
    "print(X.ndim)"
   ]
  },
  {
   "cell_type": "code",
   "execution_count": null,
   "id": "9a153657-f824-40d2-867b-69dc9b883570",
   "metadata": {
    "tags": []
   },
   "outputs": [],
   "source": [
    "X.reshape(4,7)"
   ]
  },
  {
   "cell_type": "code",
   "execution_count": null,
   "id": "72141d44-993e-402a-a5ce-94f0b94b01f8",
   "metadata": {
    "tags": []
   },
   "outputs": [],
   "source": [
    "X.reshape(2,14)"
   ]
  },
  {
   "cell_type": "code",
   "execution_count": null,
   "id": "448dc368-9dc0-4172-a7d2-e011f887e142",
   "metadata": {
    "tags": []
   },
   "outputs": [],
   "source": [
    "X.reshape(5,5)"
   ]
  },
  {
   "cell_type": "code",
   "execution_count": null,
   "id": "5e4bb613-674d-4994-a7c5-e056fa1e5f6f",
   "metadata": {},
   "outputs": [],
   "source": []
  }
 ],
 "metadata": {
  "kernelspec": {
   "display_name": "Python 3 (ipykernel)",
   "language": "python",
   "name": "python3"
  },
  "language_info": {
   "codemirror_mode": {
    "name": "ipython",
    "version": 3
   },
   "file_extension": ".py",
   "mimetype": "text/x-python",
   "name": "python",
   "nbconvert_exporter": "python",
   "pygments_lexer": "ipython3",
   "version": "3.10.6"
  }
 },
 "nbformat": 4,
 "nbformat_minor": 5
}
