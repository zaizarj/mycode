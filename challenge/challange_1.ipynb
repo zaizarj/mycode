{
 "cells": [
  {
   "cell_type": "code",
   "execution_count": 37,
   "id": "3d202620-c9d4-4441-a79c-a598267a70f0",
   "metadata": {
    "tags": []
   },
   "outputs": [
    {
     "name": "stdout",
     "output_type": "stream",
     "text": [
      "Average cheddar consumed from 1970 to 2017: f9.05 pounds\n"
     ]
    }
   ],
   "source": [
    "import pandas as pd\n",
    "mydf = pd.read_csv(\"annualcheeseconsumed.csv\", sep=\",\")\n",
    "#mydf.set_index('Year', inplace=False)\n",
    "mydf_c = mydf[['Year', 'Cheddar', 'Swiss', 'Muenster']]\n",
    "mydf_S = mydf_c.sort_index(ascending=False)\n",
    "mean_cheddar = mydf.loc['1970':'2017','Cheddar'].mean()\n",
    "print(f\"Average cheddar consumed from 1970 to 2017: f{mean_cheddar} pounds\")"
   ]
  },
  {
   "cell_type": "code",
   "execution_count": null,
   "id": "eae6c9b6-5f87-4073-9a28-0bd7443d118e",
   "metadata": {},
   "outputs": [],
   "source": []
  }
 ],
 "metadata": {
  "kernelspec": {
   "display_name": "Python 3 (ipykernel)",
   "language": "python",
   "name": "python3"
  },
  "language_info": {
   "codemirror_mode": {
    "name": "ipython",
    "version": 3
   },
   "file_extension": ".py",
   "mimetype": "text/x-python",
   "name": "python",
   "nbconvert_exporter": "python",
   "pygments_lexer": "ipython3",
   "version": "3.10.6"
  }
 },
 "nbformat": 4,
 "nbformat_minor": 5
}
