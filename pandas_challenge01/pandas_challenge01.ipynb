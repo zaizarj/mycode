{
 "cells": [
  {
   "cell_type": "code",
   "execution_count": 1,
   "id": "05b53c94-7b42-4b12-b1f4-3570443d8b11",
   "metadata": {
    "tags": []
   },
   "outputs": [],
   "source": [
    "# import pandas\n",
    "import pandas as pd\n"
   ]
  },
  {
   "cell_type": "code",
   "execution_count": 2,
   "id": "d4929f94-c5d3-46fb-9741-74276f0a049d",
   "metadata": {
    "tags": []
   },
   "outputs": [],
   "source": [
    "# create some test data\n",
    "metric_data = [{'cluster': 'alphaCloud',\n",
    "                'power': 'on',\n",
    "                'domain': 'vmware.local',\n",
    "                'policy_name': 'MetricSEARCH',\n",
    "                'status': True,\n",
    "                'vserver': 'vmWare32'},\n",
    "                {'cluster': 'alphaCloud',\n",
    "                'power': 'off',\n",
    "                'domain': 'vmware.local',\n",
    "                'policy_name': 'MetricSEARCH',\n",
    "                'status': False,\n",
    "                'vserver': 'vmWare04'},\n",
    "                {'cluster': 'betaCloud',\n",
    "                'power': 'on',\n",
    "                'domain': 'vmware.local',\n",
    "                'policy_name': 'MetricSEARCH',\n",
    "                'status': 'on',\n",
    "                'vserver': 'vmWare20'},\n",
    "                {'cluster': 'betaCloud',\n",
    "                'power': 'on',\n",
    "                'domain': 'vmware.local',\n",
    "                'policy_name': 'MetricSEARCH',\n",
    "                'status': 'on',\n",
    "                'vserver': 'vmWare06'},\n",
    "                {'cluster': 'AWS',\n",
    "                'power': 'off',\n",
    "                'domain': 'acme.aws.example',\n",
    "                'policy_name': 'MetricSEARCH',\n",
    "                'status': True,\n",
    "                'vserver': 'AWS_vm007'}]\n"
   ]
  },
  {
   "cell_type": "code",
   "execution_count": 3,
   "id": "43863856-a007-4ece-95ac-7cff54639d4b",
   "metadata": {
    "tags": []
   },
   "outputs": [],
   "source": [
    "# create a dataframe from the data\n",
    "mydf = pd.DataFrame(metric_data)"
   ]
  },
  {
   "cell_type": "code",
   "execution_count": 4,
   "id": "c05d09b2-514c-4cc8-9764-c171d3a0d1f7",
   "metadata": {
    "tags": []
   },
   "outputs": [
    {
     "data": {
      "text/html": [
       "<div>\n",
       "<style scoped>\n",
       "    .dataframe tbody tr th:only-of-type {\n",
       "        vertical-align: middle;\n",
       "    }\n",
       "\n",
       "    .dataframe tbody tr th {\n",
       "        vertical-align: top;\n",
       "    }\n",
       "\n",
       "    .dataframe thead th {\n",
       "        text-align: right;\n",
       "    }\n",
       "</style>\n",
       "<table border=\"1\" class=\"dataframe\">\n",
       "  <thead>\n",
       "    <tr style=\"text-align: right;\">\n",
       "      <th></th>\n",
       "      <th>cluster</th>\n",
       "      <th>power</th>\n",
       "      <th>domain</th>\n",
       "      <th>policy_name</th>\n",
       "      <th>status</th>\n",
       "      <th>vserver</th>\n",
       "    </tr>\n",
       "  </thead>\n",
       "  <tbody>\n",
       "    <tr>\n",
       "      <th>0</th>\n",
       "      <td>alphaCloud</td>\n",
       "      <td>on</td>\n",
       "      <td>vmware.local</td>\n",
       "      <td>MetricSEARCH</td>\n",
       "      <td>True</td>\n",
       "      <td>vmWare32</td>\n",
       "    </tr>\n",
       "    <tr>\n",
       "      <th>1</th>\n",
       "      <td>alphaCloud</td>\n",
       "      <td>off</td>\n",
       "      <td>vmware.local</td>\n",
       "      <td>MetricSEARCH</td>\n",
       "      <td>False</td>\n",
       "      <td>vmWare04</td>\n",
       "    </tr>\n",
       "    <tr>\n",
       "      <th>2</th>\n",
       "      <td>betaCloud</td>\n",
       "      <td>on</td>\n",
       "      <td>vmware.local</td>\n",
       "      <td>MetricSEARCH</td>\n",
       "      <td>on</td>\n",
       "      <td>vmWare20</td>\n",
       "    </tr>\n",
       "    <tr>\n",
       "      <th>3</th>\n",
       "      <td>betaCloud</td>\n",
       "      <td>on</td>\n",
       "      <td>vmware.local</td>\n",
       "      <td>MetricSEARCH</td>\n",
       "      <td>on</td>\n",
       "      <td>vmWare06</td>\n",
       "    </tr>\n",
       "    <tr>\n",
       "      <th>4</th>\n",
       "      <td>AWS</td>\n",
       "      <td>off</td>\n",
       "      <td>acme.aws.example</td>\n",
       "      <td>MetricSEARCH</td>\n",
       "      <td>True</td>\n",
       "      <td>AWS_vm007</td>\n",
       "    </tr>\n",
       "  </tbody>\n",
       "</table>\n",
       "</div>"
      ],
      "text/plain": [
       "      cluster power            domain   policy_name status    vserver\n",
       "0  alphaCloud    on      vmware.local  MetricSEARCH   True   vmWare32\n",
       "1  alphaCloud   off      vmware.local  MetricSEARCH  False   vmWare04\n",
       "2   betaCloud    on      vmware.local  MetricSEARCH     on   vmWare20\n",
       "3   betaCloud    on      vmware.local  MetricSEARCH     on   vmWare06\n",
       "4         AWS   off  acme.aws.example  MetricSEARCH   True  AWS_vm007"
      ]
     },
     "execution_count": 4,
     "metadata": {},
     "output_type": "execute_result"
    }
   ],
   "source": [
    "mydf"
   ]
  },
  {
   "cell_type": "code",
   "execution_count": 5,
   "id": "e6761776-d084-449b-a1cd-955ac4c6db55",
   "metadata": {
    "tags": []
   },
   "outputs": [],
   "source": [
    "# use the replace method to transform ONLY the status column to True\n",
    "mydf.status.replace({'on': True}, inplace=True)"
   ]
  },
  {
   "cell_type": "code",
   "execution_count": 6,
   "id": "f466c3e9-33cb-4492-9e5a-2fed3c54bc44",
   "metadata": {
    "tags": []
   },
   "outputs": [
    {
     "data": {
      "text/html": [
       "<div>\n",
       "<style scoped>\n",
       "    .dataframe tbody tr th:only-of-type {\n",
       "        vertical-align: middle;\n",
       "    }\n",
       "\n",
       "    .dataframe tbody tr th {\n",
       "        vertical-align: top;\n",
       "    }\n",
       "\n",
       "    .dataframe thead th {\n",
       "        text-align: right;\n",
       "    }\n",
       "</style>\n",
       "<table border=\"1\" class=\"dataframe\">\n",
       "  <thead>\n",
       "    <tr style=\"text-align: right;\">\n",
       "      <th></th>\n",
       "      <th>cluster</th>\n",
       "      <th>power</th>\n",
       "      <th>domain</th>\n",
       "      <th>policy_name</th>\n",
       "      <th>status</th>\n",
       "      <th>vserver</th>\n",
       "    </tr>\n",
       "  </thead>\n",
       "  <tbody>\n",
       "    <tr>\n",
       "      <th>0</th>\n",
       "      <td>alphaCloud</td>\n",
       "      <td>on</td>\n",
       "      <td>vmware.local</td>\n",
       "      <td>MetricSEARCH</td>\n",
       "      <td>True</td>\n",
       "      <td>vmWare32</td>\n",
       "    </tr>\n",
       "    <tr>\n",
       "      <th>1</th>\n",
       "      <td>alphaCloud</td>\n",
       "      <td>off</td>\n",
       "      <td>vmware.local</td>\n",
       "      <td>MetricSEARCH</td>\n",
       "      <td>False</td>\n",
       "      <td>vmWare04</td>\n",
       "    </tr>\n",
       "    <tr>\n",
       "      <th>2</th>\n",
       "      <td>betaCloud</td>\n",
       "      <td>on</td>\n",
       "      <td>vmware.local</td>\n",
       "      <td>MetricSEARCH</td>\n",
       "      <td>True</td>\n",
       "      <td>vmWare20</td>\n",
       "    </tr>\n",
       "    <tr>\n",
       "      <th>3</th>\n",
       "      <td>betaCloud</td>\n",
       "      <td>on</td>\n",
       "      <td>vmware.local</td>\n",
       "      <td>MetricSEARCH</td>\n",
       "      <td>True</td>\n",
       "      <td>vmWare06</td>\n",
       "    </tr>\n",
       "    <tr>\n",
       "      <th>4</th>\n",
       "      <td>AWS</td>\n",
       "      <td>off</td>\n",
       "      <td>acme.aws.example</td>\n",
       "      <td>MetricSEARCH</td>\n",
       "      <td>True</td>\n",
       "      <td>AWS_vm007</td>\n",
       "    </tr>\n",
       "  </tbody>\n",
       "</table>\n",
       "</div>"
      ],
      "text/plain": [
       "      cluster power            domain   policy_name  status    vserver\n",
       "0  alphaCloud    on      vmware.local  MetricSEARCH    True   vmWare32\n",
       "1  alphaCloud   off      vmware.local  MetricSEARCH   False   vmWare04\n",
       "2   betaCloud    on      vmware.local  MetricSEARCH    True   vmWare20\n",
       "3   betaCloud    on      vmware.local  MetricSEARCH    True   vmWare06\n",
       "4         AWS   off  acme.aws.example  MetricSEARCH    True  AWS_vm007"
      ]
     },
     "execution_count": 6,
     "metadata": {},
     "output_type": "execute_result"
    }
   ],
   "source": [
    "mydf"
   ]
  },
  {
   "cell_type": "code",
   "execution_count": 7,
   "id": "d0043330-c7bd-4f64-a49d-1297319db05f",
   "metadata": {
    "tags": []
   },
   "outputs": [],
   "source": [
    "mydf['policy_name'] = mydf.policy_name.apply(lambda x: x.lower())"
   ]
  },
  {
   "cell_type": "code",
   "execution_count": 8,
   "id": "e351e48e-fe2a-48a5-9707-c3b1c370a1df",
   "metadata": {
    "tags": []
   },
   "outputs": [
    {
     "data": {
      "text/html": [
       "<div>\n",
       "<style scoped>\n",
       "    .dataframe tbody tr th:only-of-type {\n",
       "        vertical-align: middle;\n",
       "    }\n",
       "\n",
       "    .dataframe tbody tr th {\n",
       "        vertical-align: top;\n",
       "    }\n",
       "\n",
       "    .dataframe thead th {\n",
       "        text-align: right;\n",
       "    }\n",
       "</style>\n",
       "<table border=\"1\" class=\"dataframe\">\n",
       "  <thead>\n",
       "    <tr style=\"text-align: right;\">\n",
       "      <th></th>\n",
       "      <th>cluster</th>\n",
       "      <th>power</th>\n",
       "      <th>domain</th>\n",
       "      <th>policy_name</th>\n",
       "      <th>status</th>\n",
       "      <th>vserver</th>\n",
       "    </tr>\n",
       "  </thead>\n",
       "  <tbody>\n",
       "    <tr>\n",
       "      <th>0</th>\n",
       "      <td>alphaCloud</td>\n",
       "      <td>on</td>\n",
       "      <td>vmware.local</td>\n",
       "      <td>metricsearch</td>\n",
       "      <td>True</td>\n",
       "      <td>vmWare32</td>\n",
       "    </tr>\n",
       "    <tr>\n",
       "      <th>1</th>\n",
       "      <td>alphaCloud</td>\n",
       "      <td>off</td>\n",
       "      <td>vmware.local</td>\n",
       "      <td>metricsearch</td>\n",
       "      <td>False</td>\n",
       "      <td>vmWare04</td>\n",
       "    </tr>\n",
       "    <tr>\n",
       "      <th>2</th>\n",
       "      <td>betaCloud</td>\n",
       "      <td>on</td>\n",
       "      <td>vmware.local</td>\n",
       "      <td>metricsearch</td>\n",
       "      <td>True</td>\n",
       "      <td>vmWare20</td>\n",
       "    </tr>\n",
       "    <tr>\n",
       "      <th>3</th>\n",
       "      <td>betaCloud</td>\n",
       "      <td>on</td>\n",
       "      <td>vmware.local</td>\n",
       "      <td>metricsearch</td>\n",
       "      <td>True</td>\n",
       "      <td>vmWare06</td>\n",
       "    </tr>\n",
       "    <tr>\n",
       "      <th>4</th>\n",
       "      <td>AWS</td>\n",
       "      <td>off</td>\n",
       "      <td>acme.aws.example</td>\n",
       "      <td>metricsearch</td>\n",
       "      <td>True</td>\n",
       "      <td>AWS_vm007</td>\n",
       "    </tr>\n",
       "  </tbody>\n",
       "</table>\n",
       "</div>"
      ],
      "text/plain": [
       "      cluster power            domain   policy_name  status    vserver\n",
       "0  alphaCloud    on      vmware.local  metricsearch    True   vmWare32\n",
       "1  alphaCloud   off      vmware.local  metricsearch   False   vmWare04\n",
       "2   betaCloud    on      vmware.local  metricsearch    True   vmWare20\n",
       "3   betaCloud    on      vmware.local  metricsearch    True   vmWare06\n",
       "4         AWS   off  acme.aws.example  metricsearch    True  AWS_vm007"
      ]
     },
     "execution_count": 8,
     "metadata": {},
     "output_type": "execute_result"
    }
   ],
   "source": [
    "mydf"
   ]
  },
  {
   "cell_type": "code",
   "execution_count": 9,
   "id": "27c39ae7-52e3-4a3c-92a6-b3e824eff7e9",
   "metadata": {
    "tags": []
   },
   "outputs": [
    {
     "data": {
      "text/html": [
       "<div>\n",
       "<style scoped>\n",
       "    .dataframe tbody tr th:only-of-type {\n",
       "        vertical-align: middle;\n",
       "    }\n",
       "\n",
       "    .dataframe tbody tr th {\n",
       "        vertical-align: top;\n",
       "    }\n",
       "\n",
       "    .dataframe thead th {\n",
       "        text-align: right;\n",
       "    }\n",
       "</style>\n",
       "<table border=\"1\" class=\"dataframe\">\n",
       "  <thead>\n",
       "    <tr style=\"text-align: right;\">\n",
       "      <th></th>\n",
       "      <th>cluster</th>\n",
       "      <th>power</th>\n",
       "      <th>domain</th>\n",
       "      <th>policy_name</th>\n",
       "      <th>status</th>\n",
       "      <th>vserver</th>\n",
       "    </tr>\n",
       "  </thead>\n",
       "  <tbody>\n",
       "    <tr>\n",
       "      <th>0</th>\n",
       "      <td>alphaCloud</td>\n",
       "      <td>on</td>\n",
       "      <td>vmware.local</td>\n",
       "      <td>metricsearch</td>\n",
       "      <td>True</td>\n",
       "      <td>vmWare32</td>\n",
       "    </tr>\n",
       "    <tr>\n",
       "      <th>1</th>\n",
       "      <td>alphaCloud</td>\n",
       "      <td>off</td>\n",
       "      <td>vmware.local</td>\n",
       "      <td>metricsearch</td>\n",
       "      <td>False</td>\n",
       "      <td>vmWare04</td>\n",
       "    </tr>\n",
       "    <tr>\n",
       "      <th>2</th>\n",
       "      <td>betaCloud</td>\n",
       "      <td>on</td>\n",
       "      <td>vmware.local</td>\n",
       "      <td>metricsearch</td>\n",
       "      <td>True</td>\n",
       "      <td>vmWare20</td>\n",
       "    </tr>\n",
       "    <tr>\n",
       "      <th>3</th>\n",
       "      <td>betaCloud</td>\n",
       "      <td>on</td>\n",
       "      <td>vmware.local</td>\n",
       "      <td>metricsearch</td>\n",
       "      <td>True</td>\n",
       "      <td>vmWare06</td>\n",
       "    </tr>\n",
       "    <tr>\n",
       "      <th>4</th>\n",
       "      <td>AWS</td>\n",
       "      <td>off</td>\n",
       "      <td>acme.aws.example</td>\n",
       "      <td>metricsearch</td>\n",
       "      <td>True</td>\n",
       "      <td>AWS_vm007</td>\n",
       "    </tr>\n",
       "  </tbody>\n",
       "</table>\n",
       "</div>"
      ],
      "text/plain": [
       "      cluster power            domain   policy_name  status    vserver\n",
       "0  alphaCloud    on      vmware.local  metricsearch    True   vmWare32\n",
       "1  alphaCloud   off      vmware.local  metricsearch   False   vmWare04\n",
       "2   betaCloud    on      vmware.local  metricsearch    True   vmWare20\n",
       "3   betaCloud    on      vmware.local  metricsearch    True   vmWare06\n",
       "4         AWS   off  acme.aws.example  metricsearch    True  AWS_vm007"
      ]
     },
     "execution_count": 9,
     "metadata": {},
     "output_type": "execute_result"
    }
   ],
   "source": [
    "# this is a \"shallow copy\"\n",
    "# the result is that changes to mydf will be reflected in df2\n",
    "# df2 is essentially a pointer to mydf\n",
    "df2 = mydf\n",
    "# df2 does look like a copy of mydf, but it is a SHALLOW copy\n",
    "# shallow copies are essentially still connected to the reference obeject, or mydf in this case\n",
    "df2"
   ]
  },
  {
   "cell_type": "code",
   "execution_count": 10,
   "id": "e10abdaa-4ea2-44b5-9ed0-636640faa801",
   "metadata": {
    "tags": []
   },
   "outputs": [
    {
     "data": {
      "text/plain": [
       "True"
      ]
     },
     "execution_count": 10,
     "metadata": {},
     "output_type": "execute_result"
    }
   ],
   "source": [
    "# the \"is\" key word will show that the two objects are still connected\n",
    "df2 is mydf  # results in True"
   ]
  },
  {
   "cell_type": "code",
   "execution_count": 11,
   "id": "8dced4a5-2140-4b6d-b751-c9aa8a7bc82d",
   "metadata": {
    "tags": []
   },
   "outputs": [
    {
     "data": {
      "text/html": [
       "<div>\n",
       "<style scoped>\n",
       "    .dataframe tbody tr th:only-of-type {\n",
       "        vertical-align: middle;\n",
       "    }\n",
       "\n",
       "    .dataframe tbody tr th {\n",
       "        vertical-align: top;\n",
       "    }\n",
       "\n",
       "    .dataframe thead th {\n",
       "        text-align: right;\n",
       "    }\n",
       "</style>\n",
       "<table border=\"1\" class=\"dataframe\">\n",
       "  <thead>\n",
       "    <tr style=\"text-align: right;\">\n",
       "      <th></th>\n",
       "      <th>cluster</th>\n",
       "      <th>power</th>\n",
       "      <th>domain</th>\n",
       "      <th>policy_name</th>\n",
       "      <th>status</th>\n",
       "      <th>vserver</th>\n",
       "    </tr>\n",
       "  </thead>\n",
       "  <tbody>\n",
       "    <tr>\n",
       "      <th>0</th>\n",
       "      <td>alphaCloud</td>\n",
       "      <td>on</td>\n",
       "      <td>vmware.local</td>\n",
       "      <td>metricsearch</td>\n",
       "      <td>True</td>\n",
       "      <td>vmWare32</td>\n",
       "    </tr>\n",
       "    <tr>\n",
       "      <th>1</th>\n",
       "      <td>alphaCloud</td>\n",
       "      <td>off</td>\n",
       "      <td>vmware.local</td>\n",
       "      <td>metricsearch</td>\n",
       "      <td>False</td>\n",
       "      <td>vmWare04</td>\n",
       "    </tr>\n",
       "    <tr>\n",
       "      <th>2</th>\n",
       "      <td>betaCloud</td>\n",
       "      <td>on</td>\n",
       "      <td>vmware.local</td>\n",
       "      <td>metricsearch</td>\n",
       "      <td>True</td>\n",
       "      <td>vmWare20</td>\n",
       "    </tr>\n",
       "    <tr>\n",
       "      <th>3</th>\n",
       "      <td>betaCloud</td>\n",
       "      <td>on</td>\n",
       "      <td>vmware.local</td>\n",
       "      <td>metricsearch</td>\n",
       "      <td>True</td>\n",
       "      <td>vmWare06</td>\n",
       "    </tr>\n",
       "    <tr>\n",
       "      <th>4</th>\n",
       "      <td>AWS</td>\n",
       "      <td>off</td>\n",
       "      <td>acme.aws.example</td>\n",
       "      <td>metricsearch</td>\n",
       "      <td>True</td>\n",
       "      <td>AWS_vm007</td>\n",
       "    </tr>\n",
       "  </tbody>\n",
       "</table>\n",
       "</div>"
      ],
      "text/plain": [
       "      cluster power            domain   policy_name  status    vserver\n",
       "0  alphaCloud    on      vmware.local  metricsearch    True   vmWare32\n",
       "1  alphaCloud   off      vmware.local  metricsearch   False   vmWare04\n",
       "2   betaCloud    on      vmware.local  metricsearch    True   vmWare20\n",
       "3   betaCloud    on      vmware.local  metricsearch    True   vmWare06\n",
       "4         AWS   off  acme.aws.example  metricsearch    True  AWS_vm007"
      ]
     },
     "execution_count": 11,
     "metadata": {},
     "output_type": "execute_result"
    }
   ],
   "source": [
    "df2"
   ]
  },
  {
   "cell_type": "code",
   "execution_count": 12,
   "id": "4172adab-b11b-46d5-9ba2-2474916fd29c",
   "metadata": {
    "tags": []
   },
   "outputs": [
    {
     "data": {
      "text/html": [
       "<div>\n",
       "<style scoped>\n",
       "    .dataframe tbody tr th:only-of-type {\n",
       "        vertical-align: middle;\n",
       "    }\n",
       "\n",
       "    .dataframe tbody tr th {\n",
       "        vertical-align: top;\n",
       "    }\n",
       "\n",
       "    .dataframe thead th {\n",
       "        text-align: right;\n",
       "    }\n",
       "</style>\n",
       "<table border=\"1\" class=\"dataframe\">\n",
       "  <thead>\n",
       "    <tr style=\"text-align: right;\">\n",
       "      <th></th>\n",
       "      <th>cluster</th>\n",
       "      <th>power</th>\n",
       "      <th>domain</th>\n",
       "      <th>policy_name</th>\n",
       "      <th>status</th>\n",
       "      <th>vserver</th>\n",
       "    </tr>\n",
       "  </thead>\n",
       "  <tbody>\n",
       "    <tr>\n",
       "      <th>0</th>\n",
       "      <td>alphaCloud</td>\n",
       "      <td>on</td>\n",
       "      <td>vmware.local</td>\n",
       "      <td>metricsearch</td>\n",
       "      <td>True</td>\n",
       "      <td>vmWare32</td>\n",
       "    </tr>\n",
       "    <tr>\n",
       "      <th>1</th>\n",
       "      <td>alphaCloud</td>\n",
       "      <td>off</td>\n",
       "      <td>vmware.local</td>\n",
       "      <td>metricsearch</td>\n",
       "      <td>False</td>\n",
       "      <td>vmWare04</td>\n",
       "    </tr>\n",
       "    <tr>\n",
       "      <th>2</th>\n",
       "      <td>betaCloud</td>\n",
       "      <td>on</td>\n",
       "      <td>vmware.local</td>\n",
       "      <td>metricsearch</td>\n",
       "      <td>True</td>\n",
       "      <td>vmWare20</td>\n",
       "    </tr>\n",
       "    <tr>\n",
       "      <th>3</th>\n",
       "      <td>betaCloud</td>\n",
       "      <td>on</td>\n",
       "      <td>vmware.local</td>\n",
       "      <td>metricsearch</td>\n",
       "      <td>True</td>\n",
       "      <td>vmWare06</td>\n",
       "    </tr>\n",
       "  </tbody>\n",
       "</table>\n",
       "</div>"
      ],
      "text/plain": [
       "      cluster power        domain   policy_name  status   vserver\n",
       "0  alphaCloud    on  vmware.local  metricsearch    True  vmWare32\n",
       "1  alphaCloud   off  vmware.local  metricsearch   False  vmWare04\n",
       "2   betaCloud    on  vmware.local  metricsearch    True  vmWare20\n",
       "3   betaCloud    on  vmware.local  metricsearch    True  vmWare06"
      ]
     },
     "execution_count": 12,
     "metadata": {},
     "output_type": "execute_result"
    }
   ],
   "source": [
    "# remove record 04 using .drop()\n",
    "# axis=0 means \"row\"\n",
    "# axis=1 means \"column\"\n",
    "mydf = mydf.drop(labels=4, axis=0)  # this says \"look across (axis=0) the row 4\"\n",
    "mydf  # display the changed dataframe"
   ]
  },
  {
   "cell_type": "code",
   "execution_count": 13,
   "id": "3c4cc2cd-9bf6-4058-857f-1114226da520",
   "metadata": {
    "tags": []
   },
   "outputs": [
    {
     "data": {
      "text/html": [
       "<div>\n",
       "<style scoped>\n",
       "    .dataframe tbody tr th:only-of-type {\n",
       "        vertical-align: middle;\n",
       "    }\n",
       "\n",
       "    .dataframe tbody tr th {\n",
       "        vertical-align: top;\n",
       "    }\n",
       "\n",
       "    .dataframe thead th {\n",
       "        text-align: right;\n",
       "    }\n",
       "</style>\n",
       "<table border=\"1\" class=\"dataframe\">\n",
       "  <thead>\n",
       "    <tr style=\"text-align: right;\">\n",
       "      <th></th>\n",
       "      <th>cluster</th>\n",
       "      <th>power</th>\n",
       "      <th>domain</th>\n",
       "      <th>policy_name</th>\n",
       "      <th>status</th>\n",
       "      <th>vserver</th>\n",
       "    </tr>\n",
       "  </thead>\n",
       "  <tbody>\n",
       "    <tr>\n",
       "      <th>0</th>\n",
       "      <td>alphaCloud</td>\n",
       "      <td>on</td>\n",
       "      <td>vmware.local</td>\n",
       "      <td>metricsearch</td>\n",
       "      <td>True</td>\n",
       "      <td>vmWare32</td>\n",
       "    </tr>\n",
       "    <tr>\n",
       "      <th>1</th>\n",
       "      <td>alphaCloud</td>\n",
       "      <td>off</td>\n",
       "      <td>vmware.local</td>\n",
       "      <td>metricsearch</td>\n",
       "      <td>False</td>\n",
       "      <td>vmWare04</td>\n",
       "    </tr>\n",
       "    <tr>\n",
       "      <th>2</th>\n",
       "      <td>betaCloud</td>\n",
       "      <td>on</td>\n",
       "      <td>vmware.local</td>\n",
       "      <td>metricsearch</td>\n",
       "      <td>True</td>\n",
       "      <td>vmWare20</td>\n",
       "    </tr>\n",
       "    <tr>\n",
       "      <th>3</th>\n",
       "      <td>betaCloud</td>\n",
       "      <td>on</td>\n",
       "      <td>vmware.local</td>\n",
       "      <td>metricsearch</td>\n",
       "      <td>True</td>\n",
       "      <td>vmWare06</td>\n",
       "    </tr>\n",
       "    <tr>\n",
       "      <th>4</th>\n",
       "      <td>AWS</td>\n",
       "      <td>off</td>\n",
       "      <td>acme.aws.example</td>\n",
       "      <td>metricsearch</td>\n",
       "      <td>True</td>\n",
       "      <td>AWS_vm007</td>\n",
       "    </tr>\n",
       "  </tbody>\n",
       "</table>\n",
       "</div>"
      ],
      "text/plain": [
       "      cluster power            domain   policy_name  status    vserver\n",
       "0  alphaCloud    on      vmware.local  metricsearch    True   vmWare32\n",
       "1  alphaCloud   off      vmware.local  metricsearch   False   vmWare04\n",
       "2   betaCloud    on      vmware.local  metricsearch    True   vmWare20\n",
       "3   betaCloud    on      vmware.local  metricsearch    True   vmWare06\n",
       "4         AWS   off  acme.aws.example  metricsearch    True  AWS_vm007"
      ]
     },
     "execution_count": 13,
     "metadata": {},
     "output_type": "execute_result"
    }
   ],
   "source": [
    "df2"
   ]
  },
  {
   "cell_type": "code",
   "execution_count": 14,
   "id": "166d502e-82f5-4443-823d-50288624b554",
   "metadata": {
    "tags": []
   },
   "outputs": [
    {
     "data": {
      "text/plain": [
       "False"
      ]
     },
     "execution_count": 14,
     "metadata": {},
     "output_type": "execute_result"
    }
   ],
   "source": [
    "df2 is mydf"
   ]
  },
  {
   "cell_type": "code",
   "execution_count": 14,
   "id": "db02902d-5f09-4484-a7cd-34d85abc08ee",
   "metadata": {
    "tags": []
   },
   "outputs": [
    {
     "data": {
      "text/plain": [
       "False"
      ]
     },
     "execution_count": 14,
     "metadata": {},
     "output_type": "execute_result"
    }
   ],
   "source": [
    "df2 is mydf"
   ]
  },
  {
   "cell_type": "code",
   "execution_count": 16,
   "id": "51164bd8-d4ba-4603-935e-29a751755625",
   "metadata": {
    "tags": []
   },
   "outputs": [
    {
     "data": {
      "text/html": [
       "<div>\n",
       "<style scoped>\n",
       "    .dataframe tbody tr th:only-of-type {\n",
       "        vertical-align: middle;\n",
       "    }\n",
       "\n",
       "    .dataframe tbody tr th {\n",
       "        vertical-align: top;\n",
       "    }\n",
       "\n",
       "    .dataframe thead th {\n",
       "        text-align: right;\n",
       "    }\n",
       "</style>\n",
       "<table border=\"1\" class=\"dataframe\">\n",
       "  <thead>\n",
       "    <tr style=\"text-align: right;\">\n",
       "      <th></th>\n",
       "      <th>cluster</th>\n",
       "      <th>power</th>\n",
       "      <th>domain</th>\n",
       "      <th>policy_name</th>\n",
       "      <th>status</th>\n",
       "      <th>vserver</th>\n",
       "    </tr>\n",
       "  </thead>\n",
       "  <tbody>\n",
       "    <tr>\n",
       "      <th>0</th>\n",
       "      <td>alphaCloud</td>\n",
       "      <td>on</td>\n",
       "      <td>vmware.local</td>\n",
       "      <td>metricsearch</td>\n",
       "      <td>True</td>\n",
       "      <td>vmWare32</td>\n",
       "    </tr>\n",
       "    <tr>\n",
       "      <th>1</th>\n",
       "      <td>alphaCloud</td>\n",
       "      <td>off</td>\n",
       "      <td>vmware.local</td>\n",
       "      <td>metricsearch</td>\n",
       "      <td>False</td>\n",
       "      <td>vmWare04</td>\n",
       "    </tr>\n",
       "    <tr>\n",
       "      <th>2</th>\n",
       "      <td>betaCloud</td>\n",
       "      <td>on</td>\n",
       "      <td>vmware.local</td>\n",
       "      <td>metricsearch</td>\n",
       "      <td>True</td>\n",
       "      <td>vmWare20</td>\n",
       "    </tr>\n",
       "    <tr>\n",
       "      <th>3</th>\n",
       "      <td>betaCloud</td>\n",
       "      <td>on</td>\n",
       "      <td>vmware.local</td>\n",
       "      <td>metricsearch</td>\n",
       "      <td>True</td>\n",
       "      <td>vmWare06</td>\n",
       "    </tr>\n",
       "  </tbody>\n",
       "</table>\n",
       "</div>"
      ],
      "text/plain": [
       "      cluster power        domain   policy_name  status   vserver\n",
       "0  alphaCloud    on  vmware.local  metricsearch    True  vmWare32\n",
       "1  alphaCloud   off  vmware.local  metricsearch   False  vmWare04\n",
       "2   betaCloud    on  vmware.local  metricsearch    True  vmWare20\n",
       "3   betaCloud    on  vmware.local  metricsearch    True  vmWare06"
      ]
     },
     "execution_count": 16,
     "metadata": {},
     "output_type": "execute_result"
    }
   ],
   "source": [
    "mydf"
   ]
  },
  {
   "cell_type": "code",
   "execution_count": 20,
   "id": "7b77d005-5358-4671-a393-b7b1b1afd9d7",
   "metadata": {
    "tags": []
   },
   "outputs": [],
   "source": [
    "mydf = mydf.drop(mydf.columns[2], axis=1)"
   ]
  },
  {
   "cell_type": "code",
   "execution_count": 17,
   "id": "b23fe3a6-970c-4f68-a4aa-6673f504532a",
   "metadata": {
    "tags": []
   },
   "outputs": [
    {
     "data": {
      "text/html": [
       "<div>\n",
       "<style scoped>\n",
       "    .dataframe tbody tr th:only-of-type {\n",
       "        vertical-align: middle;\n",
       "    }\n",
       "\n",
       "    .dataframe tbody tr th {\n",
       "        vertical-align: top;\n",
       "    }\n",
       "\n",
       "    .dataframe thead th {\n",
       "        text-align: right;\n",
       "    }\n",
       "</style>\n",
       "<table border=\"1\" class=\"dataframe\">\n",
       "  <thead>\n",
       "    <tr style=\"text-align: right;\">\n",
       "      <th></th>\n",
       "      <th>cluster</th>\n",
       "      <th>power</th>\n",
       "      <th>domain</th>\n",
       "      <th>policy_name</th>\n",
       "      <th>status</th>\n",
       "      <th>vserver</th>\n",
       "    </tr>\n",
       "  </thead>\n",
       "  <tbody>\n",
       "    <tr>\n",
       "      <th>0</th>\n",
       "      <td>alphaCloud</td>\n",
       "      <td>on</td>\n",
       "      <td>vmware.local</td>\n",
       "      <td>metricsearch</td>\n",
       "      <td>True</td>\n",
       "      <td>vmWare32</td>\n",
       "    </tr>\n",
       "    <tr>\n",
       "      <th>1</th>\n",
       "      <td>alphaCloud</td>\n",
       "      <td>off</td>\n",
       "      <td>vmware.local</td>\n",
       "      <td>metricsearch</td>\n",
       "      <td>False</td>\n",
       "      <td>vmWare04</td>\n",
       "    </tr>\n",
       "    <tr>\n",
       "      <th>2</th>\n",
       "      <td>betaCloud</td>\n",
       "      <td>on</td>\n",
       "      <td>vmware.local</td>\n",
       "      <td>metricsearch</td>\n",
       "      <td>True</td>\n",
       "      <td>vmWare20</td>\n",
       "    </tr>\n",
       "    <tr>\n",
       "      <th>3</th>\n",
       "      <td>betaCloud</td>\n",
       "      <td>on</td>\n",
       "      <td>vmware.local</td>\n",
       "      <td>metricsearch</td>\n",
       "      <td>True</td>\n",
       "      <td>vmWare06</td>\n",
       "    </tr>\n",
       "  </tbody>\n",
       "</table>\n",
       "</div>"
      ],
      "text/plain": [
       "      cluster power        domain   policy_name  status   vserver\n",
       "0  alphaCloud    on  vmware.local  metricsearch    True  vmWare32\n",
       "1  alphaCloud   off  vmware.local  metricsearch   False  vmWare04\n",
       "2   betaCloud    on  vmware.local  metricsearch    True  vmWare20\n",
       "3   betaCloud    on  vmware.local  metricsearch    True  vmWare06"
      ]
     },
     "execution_count": 17,
     "metadata": {},
     "output_type": "execute_result"
    }
   ],
   "source": [
    "mydf"
   ]
  },
  {
   "cell_type": "code",
   "execution_count": null,
   "id": "9358e24d-1058-4c01-95d2-c29dad33f9f8",
   "metadata": {},
   "outputs": [],
   "source": []
  }
 ],
 "metadata": {
  "kernelspec": {
   "display_name": "Python 3 (ipykernel)",
   "language": "python",
   "name": "python3"
  },
  "language_info": {
   "codemirror_mode": {
    "name": "ipython",
    "version": 3
   },
   "file_extension": ".py",
   "mimetype": "text/x-python",
   "name": "python",
   "nbconvert_exporter": "python",
   "pygments_lexer": "ipython3",
   "version": "3.10.6"
  }
 },
 "nbformat": 4,
 "nbformat_minor": 5
}
