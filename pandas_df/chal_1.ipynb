{
 "cells": [
  {
   "cell_type": "code",
   "execution_count": 1,
   "id": "2f37acc1-70d6-4f54-b0d8-d11bd669fd9d",
   "metadata": {
    "tags": []
   },
   "outputs": [],
   "source": [
    "#!/usr/bin/python3\n",
    "\"\"\"Alta3 Research | RZFeeser@alta3.com\n",
    "   Challenge Solution 01 - JSON to CSV\"\"\"\n",
    "\n",
    "import pandas\n",
    "\n",
    "# create a dataframe from json\n",
    "df = pandas.read_json(\"5movies.json\")\n",
    "\n",
    "# writeout dataframe to CSV\n",
    "df.to_csv(\"5movies-translated-from-json.csv\")\n"
   ]
  },
  {
   "cell_type": "code",
   "execution_count": 2,
   "id": "a01ae617-ced7-45ec-93ff-7ca4faef5165",
   "metadata": {
    "tags": []
   },
   "outputs": [],
   "source": [
    "#!/usr/bin/python3\n",
    "\"\"\"Alta3 Research | RZFeeser@alta3.com\n",
    "   Challenge Solution 01 - CSV to Excel\"\"\"\n",
    "\n",
    "import pandas\n",
    "\n",
    "# create a dataframe from csv\n",
    "df = pandas.read_csv(\"5movies.csv\")\n",
    "\n",
    "# writeout dataframe to excel\n",
    "df.to_excel(\"5movies-translated-from-json.xlsx\")\n"
   ]
  },
  {
   "cell_type": "code",
   "execution_count": null,
   "id": "d04334e9-5a1f-476f-86d2-009473c45894",
   "metadata": {},
   "outputs": [],
   "source": []
  }
 ],
 "metadata": {
  "kernelspec": {
   "display_name": "Python 3 (ipykernel)",
   "language": "python",
   "name": "python3"
  },
  "language_info": {
   "codemirror_mode": {
    "name": "ipython",
    "version": 3
   },
   "file_extension": ".py",
   "mimetype": "text/x-python",
   "name": "python",
   "nbconvert_exporter": "python",
   "pygments_lexer": "ipython3",
   "version": "3.10.6"
  }
 },
 "nbformat": 4,
 "nbformat_minor": 5
}
