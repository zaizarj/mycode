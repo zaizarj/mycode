{
 "cells": [
  {
   "cell_type": "code",
   "execution_count": 1,
   "id": "3114ae18-61a3-48f0-86d7-a0ad825fd651",
   "metadata": {
    "tags": []
   },
   "outputs": [],
   "source": [
    "# import pandas\n",
    "import pandas as pd\n"
   ]
  },
  {
   "cell_type": "code",
   "execution_count": 2,
   "id": "d558069a-68d4-4d7f-93ae-57ca1f110608",
   "metadata": {
    "tags": []
   },
   "outputs": [],
   "source": [
    "# create some test data\n",
    "sample = [{'attributes': {'Cluster': 'sierra001',\n",
    "                        'ProxyServer': 'rogerwilco, laurabow',\n",
    "                        'Health': 'Healthy',\n",
    "                        'MetricApp': 'fullSWEEP',\n",
    "                        'Status': 'connected',\n",
    "                        'PolicyStatus': 'enabled',\n",
    "                        'Node': 'sierra001a',\n",
    "                        'VMplatform': 'VirtPlat006',\n",
    "                        'SampleTime': '11/05/1955 09:10:43'},\n",
    "            'dataPoints': {'aborted_requests': 0,\n",
    "                        'outstanding_requests': 1,\n",
    "                        'max_request_latency': 2010,\n",
    "                        'outstanding_requests': 0,\n",
    "                        'processed_requests': 0},\n",
    "            'identifiers': {'sampleID': 'VirtPlat006_fullSWEEP_3a'},\n",
    "            'name': 'VirtPlat006_fullSWEEP_3a',\n",
    "            'cores': 6,\n",
    "            'memory': 4112},\n",
    "        {'attributes': {'Cluster': 'sierra001',\n",
    "                        'ProxyServer': 'rogerwilco, laurabow',\n",
    "                        'Health': 'Healthy',\n",
    "                        'MetricApp': 'fullSWEEP',\n",
    "                        'Status': 'connected',\n",
    "                        'PolicyStatus': 'enabled',\n",
    "                        'Node': 'sierra001a',\n",
    "                        'VMplatform': 'VirtPlat006',\n",
    "                        'SampleTime': '11/05/1955 09:10:43'},\n",
    "            'dataPoints': {'aborted_requests': 0,\n",
    "                        'outstanding_requests': 1,\n",
    "                        'max_request_latency': 3088,\n",
    "                        'outstanding_requests': 0,\n",
    "                        'processed_requests': 0},\n",
    "            'identifiers': {'sampleID': 'VirtPlat006_fullSWEEP_3a'},\n",
    "            'name': 'VirtPlat006_fullSWEEP_3b',\n",
    "            'cores': 2,\n",
    "            'memory': 2056},\n",
    "         {'attributes': {'Cluster': 'sierra001',\n",
    "                        'ProxyServer': 'rogerwilco, laurabow',\n",
    "                        'Health': 'Healthy',\n",
    "                        'MetricApp': 'fullSWEEP',\n",
    "                        'Status': 'connected',\n",
    "                        'PolicyStatus': 'enabled',\n",
    "                        'Node': 'sierra001a',\n",
    "                        'VMplatform': 'VirtPlat006',\n",
    "                        'SampleTime': '11/05/1955 09:10:43'},\n",
    "            'dataPoints': {'aborted_requests': 0,\n",
    "                        'outstanding_requests': 1,\n",
    "                        'max_request_latency': 160,\n",
    "                        'outstanding_requests': 0,\n",
    "                        'processed_requests': 0},\n",
    "            'identifiers': {'sampleID': 'VirtPlat006_fullSWEEP_3a'},\n",
    "            'name': 'VirtPlat006_fullSWEEP_3c',\n",
    "            'cores': 2,\n",
    "            'memory': 1028},\n",
    "                  {'attributes': {'Cluster': 'sierra001',\n",
    "                        'ProxyServer': 'rogerwilco, laurabow',\n",
    "                        'Health': 'Healthy',\n",
    "                        'MetricApp': 'fullSWEEP',\n",
    "                        'Status': 'connected',\n",
    "                        'PolicyStatus': 'enabled',\n",
    "                        'Node': 'sierra001a',\n",
    "                        'VMplatform': 'VirtPlat006',\n",
    "                        'SampleTime': '11/05/1955 09:10:43'},\n",
    "            'dataPoints': {'aborted_requests': 0,\n",
    "                        'outstanding_requests': 1,\n",
    "                        'max_request_latency': 4860,\n",
    "                        'outstanding_requests': 0,\n",
    "                        'processed_requests': 0},\n",
    "            'identifiers': {'sampleID': 'VirtPlat006_fullSWEEP_3a'},\n",
    "            'name': 'VirtPlat006_fullSWEEP_3d',\n",
    "            'cores': 1,\n",
    "            'memory': 1028}]"
   ]
  },
  {
   "cell_type": "code",
   "execution_count": 3,
   "id": "bb104810-45f3-435e-9882-6fdb476d7b00",
   "metadata": {
    "tags": []
   },
   "outputs": [],
   "source": [
    "# turn the entire \"sample\" into a dataframe\n",
    "mydf = pd.DataFrame(sample)"
   ]
  },
  {
   "cell_type": "code",
   "execution_count": 4,
   "id": "395c9cd3-2346-4ed4-9984-2481b511f3ce",
   "metadata": {
    "tags": []
   },
   "outputs": [
    {
     "data": {
      "text/html": [
       "<div>\n",
       "<style scoped>\n",
       "    .dataframe tbody tr th:only-of-type {\n",
       "        vertical-align: middle;\n",
       "    }\n",
       "\n",
       "    .dataframe tbody tr th {\n",
       "        vertical-align: top;\n",
       "    }\n",
       "\n",
       "    .dataframe thead th {\n",
       "        text-align: right;\n",
       "    }\n",
       "</style>\n",
       "<table border=\"1\" class=\"dataframe\">\n",
       "  <thead>\n",
       "    <tr style=\"text-align: right;\">\n",
       "      <th></th>\n",
       "      <th>aborted_requests</th>\n",
       "      <th>outstanding_requests</th>\n",
       "      <th>max_request_latency</th>\n",
       "      <th>processed_requests</th>\n",
       "    </tr>\n",
       "  </thead>\n",
       "  <tbody>\n",
       "    <tr>\n",
       "      <th>0</th>\n",
       "      <td>0</td>\n",
       "      <td>0</td>\n",
       "      <td>2010</td>\n",
       "      <td>0</td>\n",
       "    </tr>\n",
       "    <tr>\n",
       "      <th>1</th>\n",
       "      <td>0</td>\n",
       "      <td>0</td>\n",
       "      <td>3088</td>\n",
       "      <td>0</td>\n",
       "    </tr>\n",
       "    <tr>\n",
       "      <th>2</th>\n",
       "      <td>0</td>\n",
       "      <td>0</td>\n",
       "      <td>160</td>\n",
       "      <td>0</td>\n",
       "    </tr>\n",
       "    <tr>\n",
       "      <th>3</th>\n",
       "      <td>0</td>\n",
       "      <td>0</td>\n",
       "      <td>4860</td>\n",
       "      <td>0</td>\n",
       "    </tr>\n",
       "  </tbody>\n",
       "</table>\n",
       "</div>"
      ],
      "text/plain": [
       "   aborted_requests  outstanding_requests  max_request_latency   \n",
       "0                 0                     0                 2010  \\\n",
       "1                 0                     0                 3088   \n",
       "2                 0                     0                  160   \n",
       "3                 0                     0                 4860   \n",
       "\n",
       "   processed_requests  \n",
       "0                   0  \n",
       "1                   0  \n",
       "2                   0  \n",
       "3                   0  "
      ]
     },
     "execution_count": 4,
     "metadata": {},
     "output_type": "execute_result"
    }
   ],
   "source": [
    "# the value mydf.dataPoints is a dictionary, one value within that dict is max_request_latency\n",
    "mydf.dataPoints.apply(pd.Series)"
   ]
  },
  {
   "cell_type": "code",
   "execution_count": 5,
   "id": "0124f159-d382-4d14-b1ac-f9e4d86af31b",
   "metadata": {
    "tags": []
   },
   "outputs": [
    {
     "data": {
      "text/plain": [
       "0    2010\n",
       "1    3088\n",
       "2     160\n",
       "3    4860\n",
       "Name: max_request_latency, dtype: int64"
      ]
     },
     "execution_count": 5,
     "metadata": {},
     "output_type": "execute_result"
    }
   ],
   "source": [
    "# we don't have a problem selecting just the data we wish to view\n",
    "mydf.dataPoints.apply(pd.Series).max_request_latency"
   ]
  },
  {
   "cell_type": "code",
   "execution_count": 6,
   "id": "a61d6371-1e1b-4701-b0e3-3157f11e431a",
   "metadata": {
    "tags": []
   },
   "outputs": [
    {
     "data": {
      "text/html": [
       "<div>\n",
       "<style scoped>\n",
       "    .dataframe tbody tr th:only-of-type {\n",
       "        vertical-align: middle;\n",
       "    }\n",
       "\n",
       "    .dataframe tbody tr th {\n",
       "        vertical-align: top;\n",
       "    }\n",
       "\n",
       "    .dataframe thead th {\n",
       "        text-align: right;\n",
       "    }\n",
       "</style>\n",
       "<table border=\"1\" class=\"dataframe\">\n",
       "  <thead>\n",
       "    <tr style=\"text-align: right;\">\n",
       "      <th></th>\n",
       "      <th>name</th>\n",
       "    </tr>\n",
       "  </thead>\n",
       "  <tbody>\n",
       "    <tr>\n",
       "      <th>0</th>\n",
       "      <td>VirtPlat006_fullSWEEP_3a</td>\n",
       "    </tr>\n",
       "    <tr>\n",
       "      <th>1</th>\n",
       "      <td>VirtPlat006_fullSWEEP_3b</td>\n",
       "    </tr>\n",
       "    <tr>\n",
       "      <th>2</th>\n",
       "      <td>VirtPlat006_fullSWEEP_3c</td>\n",
       "    </tr>\n",
       "    <tr>\n",
       "      <th>3</th>\n",
       "      <td>VirtPlat006_fullSWEEP_3d</td>\n",
       "    </tr>\n",
       "  </tbody>\n",
       "</table>\n",
       "</div>"
      ],
      "text/plain": [
       "                       name\n",
       "0  VirtPlat006_fullSWEEP_3a\n",
       "1  VirtPlat006_fullSWEEP_3b\n",
       "2  VirtPlat006_fullSWEEP_3c\n",
       "3  VirtPlat006_fullSWEEP_3d"
      ]
     },
     "execution_count": 6,
     "metadata": {},
     "output_type": "execute_result"
    }
   ],
   "source": [
    "# if creating a dataframe from a pre-existing dataframe, be sure to use .copy() if you want a deep copy\n",
    "# remember, using \"df2 = mydf[['name']]\" will result in a shallow copy, df2 pointing to the same object as mydf['name']\n",
    "df2 = mydf[['name']].copy()\n",
    "df2"
   ]
  },
  {
   "cell_type": "code",
   "execution_count": 7,
   "id": "ced062f4-f770-43fd-a133-caa87c195bd4",
   "metadata": {
    "tags": []
   },
   "outputs": [
    {
     "data": {
      "text/html": [
       "<div>\n",
       "<style scoped>\n",
       "    .dataframe tbody tr th:only-of-type {\n",
       "        vertical-align: middle;\n",
       "    }\n",
       "\n",
       "    .dataframe tbody tr th {\n",
       "        vertical-align: top;\n",
       "    }\n",
       "\n",
       "    .dataframe thead th {\n",
       "        text-align: right;\n",
       "    }\n",
       "</style>\n",
       "<table border=\"1\" class=\"dataframe\">\n",
       "  <thead>\n",
       "    <tr style=\"text-align: right;\">\n",
       "      <th></th>\n",
       "      <th>name</th>\n",
       "      <th>max_request_latency</th>\n",
       "    </tr>\n",
       "  </thead>\n",
       "  <tbody>\n",
       "    <tr>\n",
       "      <th>0</th>\n",
       "      <td>VirtPlat006_fullSWEEP_3a</td>\n",
       "      <td>2010</td>\n",
       "    </tr>\n",
       "    <tr>\n",
       "      <th>1</th>\n",
       "      <td>VirtPlat006_fullSWEEP_3b</td>\n",
       "      <td>3088</td>\n",
       "    </tr>\n",
       "    <tr>\n",
       "      <th>2</th>\n",
       "      <td>VirtPlat006_fullSWEEP_3c</td>\n",
       "      <td>160</td>\n",
       "    </tr>\n",
       "    <tr>\n",
       "      <th>3</th>\n",
       "      <td>VirtPlat006_fullSWEEP_3d</td>\n",
       "      <td>4860</td>\n",
       "    </tr>\n",
       "  </tbody>\n",
       "</table>\n",
       "</div>"
      ],
      "text/plain": [
       "                       name  max_request_latency\n",
       "0  VirtPlat006_fullSWEEP_3a                 2010\n",
       "1  VirtPlat006_fullSWEEP_3b                 3088\n",
       "2  VirtPlat006_fullSWEEP_3c                  160\n",
       "3  VirtPlat006_fullSWEEP_3d                 4860"
      ]
     },
     "execution_count": 7,
     "metadata": {},
     "output_type": "execute_result"
    }
   ],
   "source": [
    "# using join we can combine two dataframes provided they share a common index\n",
    "df2 = df2.join(mydf.dataPoints.apply(pd.Series).max_request_latency.copy())\n",
    "df2"
   ]
  },
  {
   "cell_type": "code",
   "execution_count": 8,
   "id": "a636b0d6-bb6f-411c-bdd7-0c17da9e6021",
   "metadata": {
    "tags": []
   },
   "outputs": [
    {
     "data": {
      "text/plain": [
       "<Axes: xlabel='name'>"
      ]
     },
     "execution_count": 8,
     "metadata": {},
     "output_type": "execute_result"
    },
    {
     "data": {
      "image/png": "[encoded data removed]",
      "text/plain": [
       "<Figure size 640x480 with 1 Axes>"
      ]
     },
     "metadata": {},
     "output_type": "display_data"
    }
   ],
   "source": [
    "# from the new dataframe, produce a plot graph\n",
    "# instruct the plot graph to use the \"name\" column to plot X\n",
    "df2.plot(x='name', rot=45)"
   ]
  },
  {
   "cell_type": "code",
   "execution_count": 9,
   "id": "c2270d45-feb0-4da7-93a7-2bebf243ebc0",
   "metadata": {
    "tags": []
   },
   "outputs": [
    {
     "data": {
      "text/plain": [
       "Index(['attributes', 'dataPoints', 'identifiers', 'name', 'cores', 'memory',\n",
       "       'max_request_latency'],\n",
       "      dtype='object')"
      ]
     },
     "execution_count": 9,
     "metadata": {},
     "output_type": "execute_result"
    }
   ],
   "source": [
    "# reassign \"mydf\" to the result of joining \"mydf\" with the information returned by \n",
    "# \"mydf.dataPoints.apply(pd.Series).max_request_latency)\"\n",
    "mydf = mydf.join(mydf.dataPoints.apply(pd.Series).max_request_latency)\n",
    "# display the new columns\n",
    "mydf.columns "
   ]
  },
  {
   "cell_type": "code",
   "execution_count": 10,
   "id": "22928775-00a8-4a01-93d6-8f93b90ef645",
   "metadata": {
    "tags": []
   },
   "outputs": [
    {
     "data": {
      "text/plain": [
       "<Axes: xlabel='name'>"
      ]
     },
     "execution_count": 10,
     "metadata": {},
     "output_type": "execute_result"
    },
    {
     "data": {
      "image/png": "[encoded data removed]",
      "text/plain": [
       "<Figure size 640x480 with 1 Axes>"
      ]
     },
     "metadata": {},
     "output_type": "display_data"
    }
   ],
   "source": [
    "# \"x='name' ensures that the x-axis uses the \"name\" column\n",
    "# \"y='max_request_latency\" ensures that the y-axis uses the \"max_request_latency\" column\n",
    "# \n",
    "# NOTE: attempting to pass \"y=mydf.dataPoints.apply(pd.Series).max_request_latenecy\" will result in an error\n",
    "#\n",
    "mydf.plot(x='name', y='max_request_latency', rot=45)"
   ]
  },
  {
   "cell_type": "code",
   "execution_count": 11,
   "id": "cb20a405-64ab-4f7b-90af-a12a05313cc2",
   "metadata": {
    "tags": []
   },
   "outputs": [
    {
     "data": {
      "text/html": [
       "<div>\n",
       "<style scoped>\n",
       "    .dataframe tbody tr th:only-of-type {\n",
       "        vertical-align: middle;\n",
       "    }\n",
       "\n",
       "    .dataframe tbody tr th {\n",
       "        vertical-align: top;\n",
       "    }\n",
       "\n",
       "    .dataframe thead th {\n",
       "        text-align: right;\n",
       "    }\n",
       "</style>\n",
       "<table border=\"1\" class=\"dataframe\">\n",
       "  <thead>\n",
       "    <tr style=\"text-align: right;\">\n",
       "      <th></th>\n",
       "      <th>attributes</th>\n",
       "      <th>dataPoints</th>\n",
       "      <th>identifiers</th>\n",
       "      <th>name</th>\n",
       "      <th>cores</th>\n",
       "      <th>memory</th>\n",
       "      <th>max_request_latency</th>\n",
       "    </tr>\n",
       "  </thead>\n",
       "  <tbody>\n",
       "    <tr>\n",
       "      <th>0</th>\n",
       "      <td>{'Cluster': 'sierra001', 'ProxyServer': 'roger...</td>\n",
       "      <td>{'aborted_requests': 0, 'outstanding_requests'...</td>\n",
       "      <td>{'sampleID': 'VirtPlat006_fullSWEEP_3a'}</td>\n",
       "      <td>VirtPlat006_fullSWEEP_3a</td>\n",
       "      <td>6</td>\n",
       "      <td>4112</td>\n",
       "      <td>2010</td>\n",
       "    </tr>\n",
       "    <tr>\n",
       "      <th>1</th>\n",
       "      <td>{'Cluster': 'sierra001', 'ProxyServer': 'roger...</td>\n",
       "      <td>{'aborted_requests': 0, 'outstanding_requests'...</td>\n",
       "      <td>{'sampleID': 'VirtPlat006_fullSWEEP_3a'}</td>\n",
       "      <td>VirtPlat006_fullSWEEP_3b</td>\n",
       "      <td>2</td>\n",
       "      <td>2056</td>\n",
       "      <td>3088</td>\n",
       "    </tr>\n",
       "    <tr>\n",
       "      <th>3</th>\n",
       "      <td>{'Cluster': 'sierra001', 'ProxyServer': 'roger...</td>\n",
       "      <td>{'aborted_requests': 0, 'outstanding_requests'...</td>\n",
       "      <td>{'sampleID': 'VirtPlat006_fullSWEEP_3a'}</td>\n",
       "      <td>VirtPlat006_fullSWEEP_3d</td>\n",
       "      <td>1</td>\n",
       "      <td>1028</td>\n",
       "      <td>4860</td>\n",
       "    </tr>\n",
       "  </tbody>\n",
       "</table>\n",
       "</div>"
      ],
      "text/plain": [
       "                                          attributes   \n",
       "0  {'Cluster': 'sierra001', 'ProxyServer': 'roger...  \\\n",
       "1  {'Cluster': 'sierra001', 'ProxyServer': 'roger...   \n",
       "3  {'Cluster': 'sierra001', 'ProxyServer': 'roger...   \n",
       "\n",
       "                                          dataPoints   \n",
       "0  {'aborted_requests': 0, 'outstanding_requests'...  \\\n",
       "1  {'aborted_requests': 0, 'outstanding_requests'...   \n",
       "3  {'aborted_requests': 0, 'outstanding_requests'...   \n",
       "\n",
       "                                identifiers                      name  cores   \n",
       "0  {'sampleID': 'VirtPlat006_fullSWEEP_3a'}  VirtPlat006_fullSWEEP_3a      6  \\\n",
       "1  {'sampleID': 'VirtPlat006_fullSWEEP_3a'}  VirtPlat006_fullSWEEP_3b      2   \n",
       "3  {'sampleID': 'VirtPlat006_fullSWEEP_3a'}  VirtPlat006_fullSWEEP_3d      1   \n",
       "\n",
       "   memory  max_request_latency  \n",
       "0    4112                 2010  \n",
       "1    2056                 3088  \n",
       "3    1028                 4860  "
      ]
     },
     "execution_count": 11,
     "metadata": {},
     "output_type": "execute_result"
    }
   ],
   "source": [
    "# create a bool mask to isolate systems that are having excessive response times\n",
    "mymask = mydf['max_request_latency'] > 1000\n",
    "# display our data with the boolean mask applied\n",
    "mydf[mymask]"
   ]
  },
  {
   "cell_type": "code",
   "execution_count": 12,
   "id": "f525f102-9b51-422c-bb91-9366b22675c1",
   "metadata": {
    "tags": []
   },
   "outputs": [
    {
     "data": {
      "text/plain": [
       "<Axes: title={'center': 'Servers with Response times Over 1000ms'}, ylabel='max_request_latency'>"
      ]
     },
     "execution_count": 12,
     "metadata": {},
     "output_type": "execute_result"
    },
    {
     "data": {
      "image/png": "[encoded data removed]",
      "text/plain": [
       "<Figure size 640x480 with 1 Axes>"
      ]
     },
     "metadata": {},
     "output_type": "display_data"
    }
   ],
   "source": [
    "# create a piechart using our boolean mask\n",
    "mydf[mymask].plot.pie(legend=False, y='max_request_latency', title=\"Servers with Response times Over 1000ms\", labels=mydf[mymask]['name'])"
   ]
  },
  {
   "cell_type": "code",
   "execution_count": 13,
   "id": "7fd7b78b-dc41-443f-81ef-7bd31e7ac101",
   "metadata": {
    "tags": []
   },
   "outputs": [
    {
     "data": {
      "text/html": [
       "<div>\n",
       "<style scoped>\n",
       "    .dataframe tbody tr th:only-of-type {\n",
       "        vertical-align: middle;\n",
       "    }\n",
       "\n",
       "    .dataframe tbody tr th {\n",
       "        vertical-align: top;\n",
       "    }\n",
       "\n",
       "    .dataframe thead th {\n",
       "        text-align: right;\n",
       "    }\n",
       "</style>\n",
       "<table border=\"1\" class=\"dataframe\">\n",
       "  <thead>\n",
       "    <tr style=\"text-align: right;\">\n",
       "      <th></th>\n",
       "      <th>attributes</th>\n",
       "      <th>dataPoints</th>\n",
       "      <th>identifiers</th>\n",
       "      <th>name</th>\n",
       "      <th>cores</th>\n",
       "      <th>memory</th>\n",
       "      <th>max_request_latency</th>\n",
       "    </tr>\n",
       "  </thead>\n",
       "  <tbody>\n",
       "    <tr>\n",
       "      <th>0</th>\n",
       "      <td>{'Cluster': 'sierra001', 'ProxyServer': 'roger...</td>\n",
       "      <td>{'aborted_requests': 0, 'outstanding_requests'...</td>\n",
       "      <td>{'sampleID': 'VirtPlat006_fullSWEEP_3a'}</td>\n",
       "      <td>VirtPlat006_fullSWEEP_3a</td>\n",
       "      <td>6</td>\n",
       "      <td>4112</td>\n",
       "      <td>2010</td>\n",
       "    </tr>\n",
       "    <tr>\n",
       "      <th>1</th>\n",
       "      <td>{'Cluster': 'sierra001', 'ProxyServer': 'roger...</td>\n",
       "      <td>{'aborted_requests': 0, 'outstanding_requests'...</td>\n",
       "      <td>{'sampleID': 'VirtPlat006_fullSWEEP_3a'}</td>\n",
       "      <td>VirtPlat006_fullSWEEP_3b</td>\n",
       "      <td>2</td>\n",
       "      <td>2056</td>\n",
       "      <td>3088</td>\n",
       "    </tr>\n",
       "    <tr>\n",
       "      <th>2</th>\n",
       "      <td>{'Cluster': 'sierra001', 'ProxyServer': 'roger...</td>\n",
       "      <td>{'aborted_requests': 0, 'outstanding_requests'...</td>\n",
       "      <td>{'sampleID': 'VirtPlat006_fullSWEEP_3a'}</td>\n",
       "      <td>VirtPlat006_fullSWEEP_3c</td>\n",
       "      <td>2</td>\n",
       "      <td>1028</td>\n",
       "      <td>160</td>\n",
       "    </tr>\n",
       "  </tbody>\n",
       "</table>\n",
       "</div>"
      ],
      "text/plain": [
       "                                          attributes   \n",
       "0  {'Cluster': 'sierra001', 'ProxyServer': 'roger...  \\\n",
       "1  {'Cluster': 'sierra001', 'ProxyServer': 'roger...   \n",
       "2  {'Cluster': 'sierra001', 'ProxyServer': 'roger...   \n",
       "\n",
       "                                          dataPoints   \n",
       "0  {'aborted_requests': 0, 'outstanding_requests'...  \\\n",
       "1  {'aborted_requests': 0, 'outstanding_requests'...   \n",
       "2  {'aborted_requests': 0, 'outstanding_requests'...   \n",
       "\n",
       "                                identifiers                      name  cores   \n",
       "0  {'sampleID': 'VirtPlat006_fullSWEEP_3a'}  VirtPlat006_fullSWEEP_3a      6  \\\n",
       "1  {'sampleID': 'VirtPlat006_fullSWEEP_3a'}  VirtPlat006_fullSWEEP_3b      2   \n",
       "2  {'sampleID': 'VirtPlat006_fullSWEEP_3a'}  VirtPlat006_fullSWEEP_3c      2   \n",
       "\n",
       "   memory  max_request_latency  \n",
       "0    4112                 2010  \n",
       "1    2056                 3088  \n",
       "2    1028                  160  "
      ]
     },
     "execution_count": 13,
     "metadata": {},
     "output_type": "execute_result"
    }
   ],
   "source": [
    "# select records with more than a single core\n",
    "mymask = (mydf['cores'] > 1)\n",
    "mydf[mymask]"
   ]
  },
  {
   "cell_type": "code",
   "execution_count": 16,
   "id": "413e67e2-ea67-421e-9ced-d07b26e955ac",
   "metadata": {
    "tags": []
   },
   "outputs": [
    {
     "data": {
      "text/html": [
       "<div>\n",
       "<style scoped>\n",
       "    .dataframe tbody tr th:only-of-type {\n",
       "        vertical-align: middle;\n",
       "    }\n",
       "\n",
       "    .dataframe tbody tr th {\n",
       "        vertical-align: top;\n",
       "    }\n",
       "\n",
       "    .dataframe thead th {\n",
       "        text-align: right;\n",
       "    }\n",
       "</style>\n",
       "<table border=\"1\" class=\"dataframe\">\n",
       "  <thead>\n",
       "    <tr style=\"text-align: right;\">\n",
       "      <th></th>\n",
       "      <th>attributes</th>\n",
       "      <th>dataPoints</th>\n",
       "      <th>identifiers</th>\n",
       "      <th>name</th>\n",
       "      <th>cores</th>\n",
       "      <th>memory</th>\n",
       "      <th>max_request_latency</th>\n",
       "    </tr>\n",
       "  </thead>\n",
       "  <tbody>\n",
       "    <tr>\n",
       "      <th>0</th>\n",
       "      <td>{'Cluster': 'sierra001', 'ProxyServer': 'roger...</td>\n",
       "      <td>{'aborted_requests': 0, 'outstanding_requests'...</td>\n",
       "      <td>{'sampleID': 'VirtPlat006_fullSWEEP_3a'}</td>\n",
       "      <td>VirtPlat006_fullSWEEP_3a</td>\n",
       "      <td>6</td>\n",
       "      <td>4112</td>\n",
       "      <td>2010</td>\n",
       "    </tr>\n",
       "    <tr>\n",
       "      <th>1</th>\n",
       "      <td>{'Cluster': 'sierra001', 'ProxyServer': 'roger...</td>\n",
       "      <td>{'aborted_requests': 0, 'outstanding_requests'...</td>\n",
       "      <td>{'sampleID': 'VirtPlat006_fullSWEEP_3a'}</td>\n",
       "      <td>VirtPlat006_fullSWEEP_3b</td>\n",
       "      <td>2</td>\n",
       "      <td>2056</td>\n",
       "      <td>3088</td>\n",
       "    </tr>\n",
       "  </tbody>\n",
       "</table>\n",
       "</div>"
      ],
      "text/plain": [
       "                                          attributes   \n",
       "0  {'Cluster': 'sierra001', 'ProxyServer': 'roger...  \\\n",
       "1  {'Cluster': 'sierra001', 'ProxyServer': 'roger...   \n",
       "\n",
       "                                          dataPoints   \n",
       "0  {'aborted_requests': 0, 'outstanding_requests'...  \\\n",
       "1  {'aborted_requests': 0, 'outstanding_requests'...   \n",
       "\n",
       "                                identifiers                      name  cores   \n",
       "0  {'sampleID': 'VirtPlat006_fullSWEEP_3a'}  VirtPlat006_fullSWEEP_3a      6  \\\n",
       "1  {'sampleID': 'VirtPlat006_fullSWEEP_3a'}  VirtPlat006_fullSWEEP_3b      2   \n",
       "\n",
       "   memory  max_request_latency  \n",
       "0    4112                 2010  \n",
       "1    2056                 3088  "
      ]
     },
     "execution_count": 16,
     "metadata": {},
     "output_type": "execute_result"
    }
   ],
   "source": [
    "# the following mask will return those records that have more than 1 more and more than 1028 gigs of memory\n",
    "mymask = (mydf['cores'] > 1) & (mydf['memory'] > 1028)\n",
    "# apply the mask\n",
    "mydf[mymask]"
   ]
  },
  {
   "cell_type": "code",
   "execution_count": null,
   "id": "85bce43f-2c98-4340-949a-3a16cf23e138",
   "metadata": {},
   "outputs": [],
   "source": []
  }
 ],
 "metadata": {
  "kernelspec": {
   "display_name": "Python 3 (ipykernel)",
   "language": "python",
   "name": "python3"
  },
  "language_info": {
   "codemirror_mode": {
    "name": "ipython",
    "version": 3
   },
   "file_extension": ".py",
   "mimetype": "text/x-python",
   "name": "python",
   "nbconvert_exporter": "python",
   "pygments_lexer": "ipython3",
   "version": "3.10.6"
  }
 },
 "nbformat": 4,
 "nbformat_minor": 5
}
