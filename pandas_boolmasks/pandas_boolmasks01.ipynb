{
 "cells": [
  {
   "cell_type": "code",
   "execution_count": 1,
   "id": "63b2e85b-0604-4eee-a28f-b369f7e68348",
   "metadata": {
    "tags": []
   },
   "outputs": [],
   "source": [
    "import pandas as pd"
   ]
  },
  {
   "cell_type": "code",
   "execution_count": 2,
   "id": "a2fba72f-3bde-4f91-812a-c82351f04d97",
   "metadata": {
    "tags": []
   },
   "outputs": [],
   "source": [
    "# create some test data\n",
    "sample = [{'attributes': {'Cluster': 'sierra001',\n",
    "                        'ProxyServer': 'rogerwilco, laurabow',\n",
    "                        'Health': 'Healthy',\n",
    "                        'MetricApp': 'fullSWEEP',\n",
    "                        'Status': 'connected',\n",
    "                        'PolicyStatus': 'enabled',\n",
    "                        'Node': 'sierra001a',\n",
    "                        'VMplatform': 'VirtPlat006',\n",
    "                        'SampleTime': '11/05/1955 09:10:43'},\n",
    "            'dataPoints': {'aborted_requests': 0,\n",
    "                        'outstanding_requests': 1,\n",
    "                        'max_request_latency': 2010,\n",
    "                        'outstanding_requests': 0,\n",
    "                        'processed_requests': 0},\n",
    "            'identifiers': {'sampleID': 'VirtPlat006_fullSWEEP_3a'},\n",
    "            'name': 'VirtPlat006_fullSWEEP_3a',\n",
    "            'cores': 6,\n",
    "            'memory': 4112},\n",
    "        {'attributes': {'Cluster': 'sierra001',\n",
    "                        'ProxyServer': 'rogerwilco, laurabow',\n",
    "                        'Health': 'Healthy',\n",
    "                        'MetricApp': 'fullSWEEP',\n",
    "                        'Status': 'connected',\n",
    "                        'PolicyStatus': 'enabled',\n",
    "                        'Node': 'sierra001a',\n",
    "                        'VMplatform': 'VirtPlat006',\n",
    "                        'SampleTime': '11/05/1955 09:10:43'},\n",
    "            'dataPoints': {'aborted_requests': 0,\n",
    "                        'outstanding_requests': 1,\n",
    "                        'max_request_latency': 3088,\n",
    "                        'outstanding_requests': 0,\n",
    "                        'processed_requests': 0},\n",
    "            'identifiers': {'sampleID': 'VirtPlat006_fullSWEEP_3a'},\n",
    "            'name': 'VirtPlat006_fullSWEEP_3b',\n",
    "            'cores': 2,\n",
    "            'memory': 2056},\n",
    "         {'attributes': {'Cluster': 'sierra001',\n",
    "                        'ProxyServer': 'rogerwilco, laurabow',\n",
    "                        'Health': 'Healthy',\n",
    "                        'MetricApp': 'fullSWEEP',\n",
    "                        'Status': 'connected',\n",
    "                        'PolicyStatus': 'enabled',\n",
    "                        'Node': 'sierra001a',\n",
    "                        'VMplatform': 'VirtPlat006',\n",
    "                        'SampleTime': '11/05/1955 09:10:43'},\n",
    "            'dataPoints': {'aborted_requests': 0,\n",
    "                        'outstanding_requests': 1,\n",
    "                        'max_request_latency': 160,\n",
    "                        'outstanding_requests': 0,\n",
    "                        'processed_requests': 0},\n",
    "            'identifiers': {'sampleID': 'VirtPlat006_fullSWEEP_3a'},\n",
    "            'name': 'VirtPlat006_fullSWEEP_3c',\n",
    "            'cores': 2,\n",
    "            'memory': 1028},\n",
    "                  {'attributes': {'Cluster': 'sierra001',\n",
    "                        'ProxyServer': 'rogerwilco, laurabow',\n",
    "                        'Health': 'Healthy',\n",
    "                        'MetricApp': 'fullSWEEP',\n",
    "                        'Status': 'connected',\n",
    "                        'PolicyStatus': 'enabled',\n",
    "                        'Node': 'sierra001a',\n",
    "                        'VMplatform': 'VirtPlat006',\n",
    "                        'SampleTime': '11/05/1955 09:10:43'},\n",
    "            'dataPoints': {'aborted_requests': 0,\n",
    "                        'outstanding_requests': 1,\n",
    "                        'max_request_latency': 4860,\n",
    "                        'outstanding_requests': 0,\n",
    "                        'processed_requests': 0},\n",
    "            'identifiers': {'sampleID': 'VirtPlat006_fullSWEEP_3a'},\n",
    "            'name': 'VirtPlat006_fullSWEEP_3d',\n",
    "            'cores': 1,\n",
    "            'memory': 1028}]"
   ]
  },
  {
   "cell_type": "code",
   "execution_count": 3,
   "id": "6bba37f9-1e28-4186-9d46-c5b9f96bbb24",
   "metadata": {
    "tags": []
   },
   "outputs": [
    {
     "data": {
      "text/plain": [
       "[{'attributes': {'Cluster': 'sierra001',\n",
       "   'ProxyServer': 'rogerwilco, laurabow',\n",
       "   'Health': 'Healthy',\n",
       "   'MetricApp': 'fullSWEEP',\n",
       "   'Status': 'connected',\n",
       "   'PolicyStatus': 'enabled',\n",
       "   'Node': 'sierra001a',\n",
       "   'VMplatform': 'VirtPlat006',\n",
       "   'SampleTime': '11/05/1955 09:10:43'},\n",
       "  'dataPoints': {'aborted_requests': 0,\n",
       "   'outstanding_requests': 0,\n",
       "   'max_request_latency': 2010,\n",
       "   'processed_requests': 0},\n",
       "  'identifiers': {'sampleID': 'VirtPlat006_fullSWEEP_3a'},\n",
       "  'name': 'VirtPlat006_fullSWEEP_3a',\n",
       "  'cores': 6,\n",
       "  'memory': 4112},\n",
       " {'attributes': {'Cluster': 'sierra001',\n",
       "   'ProxyServer': 'rogerwilco, laurabow',\n",
       "   'Health': 'Healthy',\n",
       "   'MetricApp': 'fullSWEEP',\n",
       "   'Status': 'connected',\n",
       "   'PolicyStatus': 'enabled',\n",
       "   'Node': 'sierra001a',\n",
       "   'VMplatform': 'VirtPlat006',\n",
       "   'SampleTime': '11/05/1955 09:10:43'},\n",
       "  'dataPoints': {'aborted_requests': 0,\n",
       "   'outstanding_requests': 0,\n",
       "   'max_request_latency': 3088,\n",
       "   'processed_requests': 0},\n",
       "  'identifiers': {'sampleID': 'VirtPlat006_fullSWEEP_3a'},\n",
       "  'name': 'VirtPlat006_fullSWEEP_3b',\n",
       "  'cores': 2,\n",
       "  'memory': 2056},\n",
       " {'attributes': {'Cluster': 'sierra001',\n",
       "   'ProxyServer': 'rogerwilco, laurabow',\n",
       "   'Health': 'Healthy',\n",
       "   'MetricApp': 'fullSWEEP',\n",
       "   'Status': 'connected',\n",
       "   'PolicyStatus': 'enabled',\n",
       "   'Node': 'sierra001a',\n",
       "   'VMplatform': 'VirtPlat006',\n",
       "   'SampleTime': '11/05/1955 09:10:43'},\n",
       "  'dataPoints': {'aborted_requests': 0,\n",
       "   'outstanding_requests': 0,\n",
       "   'max_request_latency': 160,\n",
       "   'processed_requests': 0},\n",
       "  'identifiers': {'sampleID': 'VirtPlat006_fullSWEEP_3a'},\n",
       "  'name': 'VirtPlat006_fullSWEEP_3c',\n",
       "  'cores': 2,\n",
       "  'memory': 1028},\n",
       " {'attributes': {'Cluster': 'sierra001',\n",
       "   'ProxyServer': 'rogerwilco, laurabow',\n",
       "   'Health': 'Healthy',\n",
       "   'MetricApp': 'fullSWEEP',\n",
       "   'Status': 'connected',\n",
       "   'PolicyStatus': 'enabled',\n",
       "   'Node': 'sierra001a',\n",
       "   'VMplatform': 'VirtPlat006',\n",
       "   'SampleTime': '11/05/1955 09:10:43'},\n",
       "  'dataPoints': {'aborted_requests': 0,\n",
       "   'outstanding_requests': 0,\n",
       "   'max_request_latency': 4860,\n",
       "   'processed_requests': 0},\n",
       "  'identifiers': {'sampleID': 'VirtPlat006_fullSWEEP_3a'},\n",
       "  'name': 'VirtPlat006_fullSWEEP_3d',\n",
       "  'cores': 1,\n",
       "  'memory': 1028}]"
      ]
     },
     "execution_count": 3,
     "metadata": {},
     "output_type": "execute_result"
    }
   ],
   "source": [
    "sample"
   ]
  },
  {
   "cell_type": "code",
   "execution_count": 4,
   "id": "2d7eb073-11af-4e23-ad6f-80b5fe0b76ae",
   "metadata": {
    "tags": []
   },
   "outputs": [],
   "source": [
    "mydf = pd.DataFrame(sample)"
   ]
  },
  {
   "cell_type": "code",
   "execution_count": 5,
   "id": "3898a4b7-3a42-404a-b1f8-65a705d131f2",
   "metadata": {
    "tags": []
   },
   "outputs": [
    {
     "data": {
      "text/html": [
       "<div>\n",
       "<style scoped>\n",
       "    .dataframe tbody tr th:only-of-type {\n",
       "        vertical-align: middle;\n",
       "    }\n",
       "\n",
       "    .dataframe tbody tr th {\n",
       "        vertical-align: top;\n",
       "    }\n",
       "\n",
       "    .dataframe thead th {\n",
       "        text-align: right;\n",
       "    }\n",
       "</style>\n",
       "<table border=\"1\" class=\"dataframe\">\n",
       "  <thead>\n",
       "    <tr style=\"text-align: right;\">\n",
       "      <th></th>\n",
       "      <th>attributes</th>\n",
       "      <th>dataPoints</th>\n",
       "      <th>identifiers</th>\n",
       "      <th>name</th>\n",
       "      <th>cores</th>\n",
       "      <th>memory</th>\n",
       "    </tr>\n",
       "  </thead>\n",
       "  <tbody>\n",
       "    <tr>\n",
       "      <th>0</th>\n",
       "      <td>{'Cluster': 'sierra001', 'ProxyServer': 'roger...</td>\n",
       "      <td>{'aborted_requests': 0, 'outstanding_requests'...</td>\n",
       "      <td>{'sampleID': 'VirtPlat006_fullSWEEP_3a'}</td>\n",
       "      <td>VirtPlat006_fullSWEEP_3a</td>\n",
       "      <td>6</td>\n",
       "      <td>4112</td>\n",
       "    </tr>\n",
       "    <tr>\n",
       "      <th>1</th>\n",
       "      <td>{'Cluster': 'sierra001', 'ProxyServer': 'roger...</td>\n",
       "      <td>{'aborted_requests': 0, 'outstanding_requests'...</td>\n",
       "      <td>{'sampleID': 'VirtPlat006_fullSWEEP_3a'}</td>\n",
       "      <td>VirtPlat006_fullSWEEP_3b</td>\n",
       "      <td>2</td>\n",
       "      <td>2056</td>\n",
       "    </tr>\n",
       "    <tr>\n",
       "      <th>2</th>\n",
       "      <td>{'Cluster': 'sierra001', 'ProxyServer': 'roger...</td>\n",
       "      <td>{'aborted_requests': 0, 'outstanding_requests'...</td>\n",
       "      <td>{'sampleID': 'VirtPlat006_fullSWEEP_3a'}</td>\n",
       "      <td>VirtPlat006_fullSWEEP_3c</td>\n",
       "      <td>2</td>\n",
       "      <td>1028</td>\n",
       "    </tr>\n",
       "    <tr>\n",
       "      <th>3</th>\n",
       "      <td>{'Cluster': 'sierra001', 'ProxyServer': 'roger...</td>\n",
       "      <td>{'aborted_requests': 0, 'outstanding_requests'...</td>\n",
       "      <td>{'sampleID': 'VirtPlat006_fullSWEEP_3a'}</td>\n",
       "      <td>VirtPlat006_fullSWEEP_3d</td>\n",
       "      <td>1</td>\n",
       "      <td>1028</td>\n",
       "    </tr>\n",
       "  </tbody>\n",
       "</table>\n",
       "</div>"
      ],
      "text/plain": [
       "                                          attributes   \n",
       "0  {'Cluster': 'sierra001', 'ProxyServer': 'roger...  \\\n",
       "1  {'Cluster': 'sierra001', 'ProxyServer': 'roger...   \n",
       "2  {'Cluster': 'sierra001', 'ProxyServer': 'roger...   \n",
       "3  {'Cluster': 'sierra001', 'ProxyServer': 'roger...   \n",
       "\n",
       "                                          dataPoints   \n",
       "0  {'aborted_requests': 0, 'outstanding_requests'...  \\\n",
       "1  {'aborted_requests': 0, 'outstanding_requests'...   \n",
       "2  {'aborted_requests': 0, 'outstanding_requests'...   \n",
       "3  {'aborted_requests': 0, 'outstanding_requests'...   \n",
       "\n",
       "                                identifiers                      name  cores   \n",
       "0  {'sampleID': 'VirtPlat006_fullSWEEP_3a'}  VirtPlat006_fullSWEEP_3a      6  \\\n",
       "1  {'sampleID': 'VirtPlat006_fullSWEEP_3a'}  VirtPlat006_fullSWEEP_3b      2   \n",
       "2  {'sampleID': 'VirtPlat006_fullSWEEP_3a'}  VirtPlat006_fullSWEEP_3c      2   \n",
       "3  {'sampleID': 'VirtPlat006_fullSWEEP_3a'}  VirtPlat006_fullSWEEP_3d      1   \n",
       "\n",
       "   memory  \n",
       "0    4112  \n",
       "1    2056  \n",
       "2    1028  \n",
       "3    1028  "
      ]
     },
     "execution_count": 5,
     "metadata": {},
     "output_type": "execute_result"
    }
   ],
   "source": [
    "mydf"
   ]
  },
  {
   "cell_type": "code",
   "execution_count": 6,
   "id": "44eec5cc-880a-440c-9969-36524aeb713f",
   "metadata": {
    "tags": []
   },
   "outputs": [
    {
     "data": {
      "text/plain": [
       "Index(['attributes', 'dataPoints', 'identifiers', 'name', 'cores', 'memory'], dtype='object')"
      ]
     },
     "execution_count": 6,
     "metadata": {},
     "output_type": "execute_result"
    }
   ],
   "source": [
    "mydf.columns"
   ]
  },
  {
   "cell_type": "code",
   "execution_count": 7,
   "id": "1ca38dfb-25ee-4293-adb7-312f129fef70",
   "metadata": {
    "tags": []
   },
   "outputs": [
    {
     "data": {
      "text/plain": [
       "0    {'aborted_requests': 0, 'outstanding_requests'...\n",
       "1    {'aborted_requests': 0, 'outstanding_requests'...\n",
       "2    {'aborted_requests': 0, 'outstanding_requests'...\n",
       "3    {'aborted_requests': 0, 'outstanding_requests'...\n",
       "Name: dataPoints, dtype: object"
      ]
     },
     "execution_count": 7,
     "metadata": {},
     "output_type": "execute_result"
    }
   ],
   "source": [
    "mydf.dataPoints"
   ]
  },
  {
   "cell_type": "code",
   "execution_count": 10,
   "id": "4d74e82a-18bc-43d6-8900-83646e2cb75d",
   "metadata": {
    "tags": []
   },
   "outputs": [
    {
     "data": {
      "text/html": [
       "<div>\n",
       "<style scoped>\n",
       "    .dataframe tbody tr th:only-of-type {\n",
       "        vertical-align: middle;\n",
       "    }\n",
       "\n",
       "    .dataframe tbody tr th {\n",
       "        vertical-align: top;\n",
       "    }\n",
       "\n",
       "    .dataframe thead th {\n",
       "        text-align: right;\n",
       "    }\n",
       "</style>\n",
       "<table border=\"1\" class=\"dataframe\">\n",
       "  <thead>\n",
       "    <tr style=\"text-align: right;\">\n",
       "      <th></th>\n",
       "      <th>aborted_requests</th>\n",
       "      <th>outstanding_requests</th>\n",
       "      <th>max_request_latency</th>\n",
       "      <th>processed_requests</th>\n",
       "    </tr>\n",
       "  </thead>\n",
       "  <tbody>\n",
       "    <tr>\n",
       "      <th>0</th>\n",
       "      <td>0</td>\n",
       "      <td>0</td>\n",
       "      <td>2010</td>\n",
       "      <td>0</td>\n",
       "    </tr>\n",
       "    <tr>\n",
       "      <th>1</th>\n",
       "      <td>0</td>\n",
       "      <td>0</td>\n",
       "      <td>3088</td>\n",
       "      <td>0</td>\n",
       "    </tr>\n",
       "    <tr>\n",
       "      <th>2</th>\n",
       "      <td>0</td>\n",
       "      <td>0</td>\n",
       "      <td>160</td>\n",
       "      <td>0</td>\n",
       "    </tr>\n",
       "    <tr>\n",
       "      <th>3</th>\n",
       "      <td>0</td>\n",
       "      <td>0</td>\n",
       "      <td>4860</td>\n",
       "      <td>0</td>\n",
       "    </tr>\n",
       "  </tbody>\n",
       "</table>\n",
       "</div>"
      ],
      "text/plain": [
       "   aborted_requests  outstanding_requests  max_request_latency   \n",
       "0                 0                     0                 2010  \\\n",
       "1                 0                     0                 3088   \n",
       "2                 0                     0                  160   \n",
       "3                 0                     0                 4860   \n",
       "\n",
       "   processed_requests  \n",
       "0                   0  \n",
       "1                   0  \n",
       "2                   0  \n",
       "3                   0  "
      ]
     },
     "execution_count": 10,
     "metadata": {},
     "output_type": "execute_result"
    }
   ],
   "source": [
    "# the value mydf.dataPoints is a dictionary, one value within that dict is max_request_latency\n",
    "mydf.dataPoints.apply(pd.Series)"
   ]
  },
  {
   "cell_type": "code",
   "execution_count": 11,
   "id": "96320403-ac96-4199-98ef-cb6b5cabeedf",
   "metadata": {
    "tags": []
   },
   "outputs": [
    {
     "data": {
      "text/plain": [
       "0    2010\n",
       "1    3088\n",
       "2     160\n",
       "3    4860\n",
       "Name: max_request_latency, dtype: int64"
      ]
     },
     "execution_count": 11,
     "metadata": {},
     "output_type": "execute_result"
    }
   ],
   "source": [
    "# we don't have a problem selecting just the data we wish to view\n",
    "mydf.dataPoints.apply(pd.Series).max_request_latency"
   ]
  },
  {
   "cell_type": "code",
   "execution_count": null,
   "id": "b5d36b32-e75b-41d5-bdb5-d3e200b28687",
   "metadata": {},
   "outputs": [],
   "source": []
  }
 ],
 "metadata": {
  "kernelspec": {
   "display_name": "Python 3 (ipykernel)",
   "language": "python",
   "name": "python3"
  },
  "language_info": {
   "codemirror_mode": {
    "name": "ipython",
    "version": 3
   },
   "file_extension": ".py",
   "mimetype": "text/x-python",
   "name": "python",
   "nbconvert_exporter": "python",
   "pygments_lexer": "ipython3",
   "version": "3.10.6"
  }
 },
 "nbformat": 4,
 "nbformat_minor": 5
}
